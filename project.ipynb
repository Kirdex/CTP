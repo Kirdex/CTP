{
 "cells": [
  {
   "cell_type": "code",
   "execution_count": 2,
   "metadata": {},
   "outputs": [],
   "source": [
    "import os\n",
    "import numpy as np\n",
    "import pandas as pd\n",
    "from PIL import Image\n",
    "from sklearn.model_selection import train_test_split\n",
    "from sklearn.metrics import confusion_matrix,ConfusionMatrixDisplay\n",
    "from sklearn.preprocessing import MinMaxScaler"
   ]
  },
  {
   "cell_type": "code",
   "execution_count": 3,
   "metadata": {},
   "outputs": [],
   "source": [
    "#function to load the data\n",
    "\n",
    "def load_and_preprocess_images(real_folder, fake_folder):\n",
    "    images = []\n",
    "    labels = []\n",
    "\n",
    "    # Process real images\n",
    "    for img_name in os.listdir(real_folder):\n",
    "        img_path = os.path.join(real_folder, img_name)\n",
    "        img = Image.open(img_path).resize((224, 224))  # Resize image\n",
    "        img_array = np.array(img).flatten() / 255.0  # Normalize pixel values and flatten\n",
    "        images.append(img_array)\n",
    "        labels.append(1)  # Label for real images\n",
    "\n",
    "    # Process fake images\n",
    "    for img_name in os.listdir(fake_folder):\n",
    "        img_path = os.path.join(fake_folder, img_name)\n",
    "        img = Image.open(img_path).resize((224, 224))  # Resize image\n",
    "        img_array = np.array(img).flatten() / 255.0  # Normalize pixel values and flatten\n",
    "        images.append(img_array)\n",
    "        labels.append(0)  # Label for fake images\n",
    "\n",
    "    return np.array(images), np.array(labels)\n",
    "\n"
   ]
  },
  {
   "cell_type": "code",
   "execution_count": 12,
   "metadata": {},
   "outputs": [
    {
     "ename": "MemoryError",
     "evalue": "Unable to allocate 1.15 MiB for an array with shape (150528,) and data type float64",
     "output_type": "error",
     "traceback": [
      "\u001b[1;31m---------------------------------------------------------------------------\u001b[0m",
      "\u001b[1;31mMemoryError\u001b[0m                               Traceback (most recent call last)",
      "Cell \u001b[1;32mIn[12], line 2\u001b[0m\n\u001b[0;32m      1\u001b[0m real_folder, fake_folder \u001b[38;5;241m=\u001b[39m \u001b[38;5;124m'\u001b[39m\u001b[38;5;124mdata/real/REAL\u001b[39m\u001b[38;5;124m'\u001b[39m, \u001b[38;5;124m'\u001b[39m\u001b[38;5;124mdata\u001b[39m\u001b[38;5;130;01m\\f\u001b[39;00m\u001b[38;5;124make\u001b[39m\u001b[38;5;124m'\u001b[39m\n\u001b[1;32m----> 2\u001b[0m X, y\u001b[38;5;241m=\u001b[39m \u001b[43mload_and_preprocess_images\u001b[49m\u001b[43m(\u001b[49m\u001b[43mreal_folder\u001b[49m\u001b[43m,\u001b[49m\u001b[43m \u001b[49m\u001b[43mfake_folder\u001b[49m\u001b[43m)\u001b[49m\n",
      "Cell \u001b[1;32mIn[3], line 11\u001b[0m, in \u001b[0;36mload_and_preprocess_images\u001b[1;34m(real_folder, fake_folder)\u001b[0m\n\u001b[0;32m      9\u001b[0m img_path \u001b[38;5;241m=\u001b[39m os\u001b[38;5;241m.\u001b[39mpath\u001b[38;5;241m.\u001b[39mjoin(real_folder, img_name)\n\u001b[0;32m     10\u001b[0m img \u001b[38;5;241m=\u001b[39m Image\u001b[38;5;241m.\u001b[39mopen(img_path)\u001b[38;5;241m.\u001b[39mresize((\u001b[38;5;241m224\u001b[39m, \u001b[38;5;241m224\u001b[39m))  \u001b[38;5;66;03m# Resize image\u001b[39;00m\n\u001b[1;32m---> 11\u001b[0m img_array \u001b[38;5;241m=\u001b[39m \u001b[43mnp\u001b[49m\u001b[38;5;241;43m.\u001b[39;49m\u001b[43marray\u001b[49m\u001b[43m(\u001b[49m\u001b[43mimg\u001b[49m\u001b[43m)\u001b[49m\u001b[38;5;241;43m.\u001b[39;49m\u001b[43mflatten\u001b[49m\u001b[43m(\u001b[49m\u001b[43m)\u001b[49m\u001b[43m \u001b[49m\u001b[38;5;241;43m/\u001b[39;49m\u001b[43m \u001b[49m\u001b[38;5;241;43m255.0\u001b[39;49m  \u001b[38;5;66;03m# Normalize pixel values and flatten\u001b[39;00m\n\u001b[0;32m     12\u001b[0m images\u001b[38;5;241m.\u001b[39mappend(img_array)\n\u001b[0;32m     13\u001b[0m labels\u001b[38;5;241m.\u001b[39mappend(\u001b[38;5;241m1\u001b[39m)  \u001b[38;5;66;03m# Label for real images\u001b[39;00m\n",
      "\u001b[1;31mMemoryError\u001b[0m: Unable to allocate 1.15 MiB for an array with shape (150528,) and data type float64"
     ]
    }
   ],
   "source": [
    "real_folder, fake_folder = 'data/real/REAL', 'data\\fake'\n",
    "X, y= load_and_preprocess_images(real_folder, fake_folder)"
   ]
  },
  {
   "cell_type": "code",
   "execution_count": null,
   "metadata": {},
   "outputs": [],
   "source": []
  }
 ],
 "metadata": {
  "kernelspec": {
   "display_name": "Python 3",
   "language": "python",
   "name": "python3"
  },
  "language_info": {
   "codemirror_mode": {
    "name": "ipython",
    "version": 3
   },
   "file_extension": ".py",
   "mimetype": "text/x-python",
   "name": "python",
   "nbconvert_exporter": "python",
   "pygments_lexer": "ipython3",
   "version": "3.12.6"
  }
 },
 "nbformat": 4,
 "nbformat_minor": 2
}
